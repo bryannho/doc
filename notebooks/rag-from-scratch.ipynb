{
 "cells": [
  {
   "cell_type": "markdown",
   "id": "4ca0edca-f850-4ab4-8cba-d617e6037b8d",
   "metadata": {},
   "source": [
    "# Building a RAG from scratch\n",
    "\n",
    "In this tutorial, we'll see how to build a RAG (without any RAG libraries) using OpenAI. The RAG will provide a summary of today's news.\n",
    "\n",
    "RAGs allow LLMs to process external information, to make a case for it, let's first attempt to build a news summarizer without giving providing any external information. As we'll see shortly, this won't work, and we'll slowly add more code until we have a RAG that can summarize today's news."
   ]
  },
  {
   "cell_type": "markdown",
   "id": "8822d0a1-4696-4a62-9eb0-4622973993db",
   "metadata": {},
   "source": [
    "## Approach 1: no external information\n",
    "\n",
    "Let's call OpenAI's API to \"retrieve\" today's news. We'll do `n=3` to see a few different responses."
   ]
  },
  {
   "cell_type": "code",
   "execution_count": 1,
   "id": "061afa06-f2b7-41de-b0b0-94062ab0a6c3",
   "metadata": {},
   "outputs": [],
   "source": [
    "from openai import OpenAI\n",
    "\n",
    "client = OpenAI()\n",
    "\n",
    "response = client.chat.completions.create(\n",
    "  model=\"gpt-3.5-turbo\",\n",
    "  messages=[\n",
    "    {\"role\": \"system\", \"content\": \"You are a helpful news assistant that can answer questions about today's news\"},\n",
    "    {\"role\": \"user\", \"content\": \"Give me a short summary of today's news\"},\n",
    "  ],\n",
    "  seed=42,\n",
    "  n=3,\n",
    ")"
   ]
  },
  {
   "cell_type": "code",
   "execution_count": 20,
   "id": "40b36316-1e3b-4bc9-8fbc-04ffbfea9351",
   "metadata": {},
   "outputs": [
    {
     "data": {
      "text/markdown": [
       "\n",
       "### Response 1\n",
       "\n",
       "\n",
       "> Today's news covers a wide range of topics. In international news, the US is preparing for retaliatory strikes after a drone attack by Iran-backed militants, while Israeli forces disguised as medical staff carried out a raid in a West Bank hospital. In US politics, there are attempts to impeach Secretary Mayorkas over border policies, and Rep. Cori Bush is under investigation for alleged misuse of security funds. California is bracing for heavy rainstorms, and there have been arrests made in connection with murders in the Mojave Desert. Tech giants Microsoft and Alphabet reported their earnings, and companies like UPS and Starbucks announced job cuts. The entertainment world mourns the loss of Broadway star Chita Rivera, while Taylor Swift finds herself in the midst of controversy. Other news includes updates on Northern Ireland power-sharing, the situation in Gaza, and the Super Bowl.\n"
      ],
      "text/plain": [
       "<IPython.core.display.Markdown object>"
      ]
     },
     "metadata": {},
     "output_type": "display_data"
    },
    {
     "data": {
      "text/markdown": [
       "\n",
       "### Response 2\n",
       "\n",
       "\n",
       "> Today's news covers a range of topics. \n",
       "> \n",
       "> In international news, the US is preparing retaliatory strikes for a drone attack by Iran-backed militants, undercover Israeli troops dressed as medical staff kill three militants in a West Bank hospital raid, and France's government announces new measures to calm farmers' protests. \n",
       "> \n",
       "> Domestically, there are reports of House Republicans pressing ahead on impeaching Secretary Mayorkas over border policies, Rep. Cori Bush being under investigation for alleged misuse of security funds, and California bracing for heavy rainstorms. \n",
       "> \n",
       "> In tech news, Microsoft's earnings beat expectations, UPS is eliminating about 12,000 jobs, Alphabet (Google's parent company) misses expectations on ad revenue, and Starbucks' earnings disappoint as sales outside the US lag. \n",
       "> \n",
       "> Other news includes Apple's new Stolen Device Protection vulnerability, the death of Broadway star Chita Rivera, Taylor Swift controversy surrounding explicit AI photos, a screening of a 7-hour film about Hitler, and various sports updates. \n",
       "> \n",
       "> Lastly, there are reports on cases of syphilis and measles on the rise in the US, and the potential spread of Alzheimer's disease through medical treatments.\n"
      ],
      "text/plain": [
       "<IPython.core.display.Markdown object>"
      ]
     },
     "metadata": {},
     "output_type": "display_data"
    },
    {
     "data": {
      "text/markdown": [
       "\n",
       "### Response 3\n",
       "\n",
       "\n",
       "> Here are the top news highlights from today:\n",
       "> \n",
       "> 1. The US is preparing retaliatory strikes in response to a drone attack by Iran-backed militants in Jordan.\n",
       "> 2. E. Jean Carroll is facing backlash for saying she will use settlement money from a case against Trump to buy a new wardrobe.\n",
       "> 3. Israeli forces reportedly disguised as medical staff killed three militants in a raid on a West Bank hospital.\n",
       "> 4. House Republicans are pushing for the impeachment of Secretary Mayorkas over border policies.\n",
       "> 5. Democratic Rep. Cori Bush is under investigation by the Justice Department for alleged misuse of security funds.\n",
       "> 6. California is bracing for heavy rainstorms and potential flooding due to atmospheric rivers.\n",
       "> 7. Five individuals have been arrested in connection with the murder of six people in the Mojave Desert over a marijuana dispute.\n",
       "> 8. An Ohio man has been sentenced to 18 years in prison for attempting to firebomb a church that hosted drag shows.\n",
       "> 9. Trump can stay on the Illinois 2024 ballot despite a 14th Amendment challenge.\n",
       "> 10. France has announced new measures to address farmers' protests and blockades around Paris.\n",
       "> 11. After a two-year hiatus, power-sharing in Northern Ireland is set to resume.\n",
       "> 12. Progressives are urging Biden to reverse the pause on Palestine relief funding and improve conditions in Gaza.\n",
       "> 13. Microsoft reports strong earnings, driven by cloud and AI investments.\n",
       "> 14. UPS is cutting 12,000 jobs as part of cost-saving measures.\n",
       "> 15. Alphabet (Google's parent company) misses expectations on ad revenue, causing its stock to drop.\n",
       "> 16. Starbucks reports disappointing earnings, with lagging sales outside the US.\n",
       "> 17. Apple releases the Vision Pro, its augmented reality headset, which sells out after receiving 200,000 pre-orders.\n",
       "> 18. Analysts predict a potential drop in iPhone shipments by 15% in 2024, causing Apple's stock to fall.\n",
       "> 19. Apple introduces a new Stolen Device Protection feature on iOS 17.3, but it has a vulnerability.\n",
       "> 20. Broadway star Chita Rivera passes away at the age of 91.\n",
       "> 21. Taylor Swift becomes the target of AI-generated explicit images, sparking controversy and calls to ban \"deep fakes.\"\n",
       "> 22. A 7-hour epic film about Hitler receives a rare screening.\n",
       "> 23. The NFL's Senior Bowl showcases top prospects for the upcoming draft.\n",
       "> 24. Super Bowl LVIII tickets in Las Vegas could have a record-breaking average price of $12,700.\n",
       "> 25. The NBA trade deadline looms, and teams are evaluating potential deals.\n",
       "> 26. Bill Belichick faces a lack of interest from teams after parting ways with the New England Patriots.\n",
       "> 27. The mystery of why insects are attracted to light at night gets a new explanation.\n",
       "> 28. SpaceX successfully launches a Northrop Grumman cargo ship to the International Space Station.\n",
       "> 29. Rare images potentially show a live newborn great white shark for the first time.\n",
       "> 30. Japan's Moon Lander, thought to be lost, wakes up and shares new images of the lunar surface.\n",
       "> 31. Syphilis cases in the US reach levels not seen since 1950, prompting concerns.\n",
       "> 32. Measles cases resurge in the US due to vaccine skepticism, according to the CDC.\n",
       "> 33. Obesity and alcohol consumption are contributing to a rise in colorectal cancer among younger generations.\n",
       "> 34. Rare cases of possible Alzheimer's transmission have been discovered in recipients of contaminated HGH treatment.\n"
      ],
      "text/plain": [
       "<IPython.core.display.Markdown object>"
      ]
     },
     "metadata": {},
     "output_type": "display_data"
    }
   ],
   "source": [
    "from IPython import display\n",
    "\n",
    "def display_response(response):\n",
    "    for i, choice in enumerate(response.choices, start=1):\n",
    "        content = ''.join(f\"\\n> {line}\" for line in choice.message.content.splitlines())\n",
    "        \n",
    "        display.display(display.Markdown(f\"\"\"\n",
    "### Response {i}\n",
    "\n",
    "{content}\n",
    "\"\"\"))\n",
    "\n",
    "\n",
    "display_response(response)"
   ]
  },
  {
   "cell_type": "markdown",
   "id": "60309148-a907-42aa-bb63-18a4b5773b3b",
   "metadata": {},
   "source": [
    "In responses 1 and 3, we can see the model generated something that *sounds like news* but it's hardly something that happened today. In response 2, the model (correctly) refused to answer the question, since it doesn't have external information."
   ]
  },
  {
   "cell_type": "markdown",
   "id": "5cbfbf16-9a24-440c-b2f8-aa7408038781",
   "metadata": {},
   "source": [
    "## Approach 2: Pass today's news in the model's prompt\n",
    "\n",
    "Let's now pass our model information about today's news by using the [GNews](https://github.com/ranahaani/GNews) library.\n",
    "\n",
    "This library allows us to get data from Google News."
   ]
  },
  {
   "cell_type": "code",
   "execution_count": 10,
   "id": "d53a938b-fa51-43f2-bf2e-34b2f00128ad",
   "metadata": {},
   "outputs": [],
   "source": [
    "from gnews import GNews\n",
    "\n",
    "google_news = GNews()\n",
    "news = google_news.get_top_news()"
   ]
  },
  {
   "cell_type": "code",
   "execution_count": 11,
   "id": "22883685-ad03-42d5-b1bb-d3c7a6ee6cbe",
   "metadata": {},
   "outputs": [
    {
     "data": {
      "text/plain": [
       "38"
      ]
     },
     "execution_count": 11,
     "metadata": {},
     "output_type": "execute_result"
    }
   ],
   "source": [
    "len(news)"
   ]
  },
  {
   "cell_type": "code",
   "execution_count": 16,
   "id": "66cfba8e-d48a-4c01-8213-865f2421600d",
   "metadata": {},
   "outputs": [
    {
     "data": {
      "text/plain": [
       "{'title': 'US readies retaliatory strikes for drone attack by Iran-backed militants - ABC News',\n",
       " 'description': \"US readies retaliatory strikes for drone attack by Iran-backed militants  ABC News'I hold them responsible': Biden says he's made a decision on response to attack in Jordan  USA TODAY‘Frog being boiled’: US troop deaths in Jordan incite Republican Iran hawks  Al Jazeera English2024 Presidential Election News: Live Updates  The New York TimesNetanyahu issues condolences to US troops killed in drone strike 2 days ago  The Times of Israel\",\n",
       " 'published date': 'Tue, 30 Jan 2024 20:45:25 GMT',\n",
       " 'url': 'https://news.google.com/rss/articles/CBMiamh0dHBzOi8vYWJjbmV3cy5nby5jb20vUG9saXRpY3MvdXMtcmVhZGllcy1yZXRhbGlhdG9yeS1zdHJpa2VzLWRyb25lLWF0dGFjay1pcmFuLWJhY2tlZC9zdG9yeT9pZD0xMDY4MDA1NDPSAW5odHRwczovL2FiY25ld3MuZ28uY29tL2FtcC9Qb2xpdGljcy91cy1yZWFkaWVzLXJldGFsaWF0b3J5LXN0cmlrZXMtZHJvbmUtYXR0YWNrLWlyYW4tYmFja2VkL3N0b3J5P2lkPTEwNjgwMDU0Mw?oc=5&hl=en-US&gl=US&ceid=US:en',\n",
       " 'publisher': {'href': 'https://abcnews.go.com', 'title': 'ABC News'}}"
      ]
     },
     "execution_count": 16,
     "metadata": {},
     "output_type": "execute_result"
    }
   ],
   "source": [
    "news[0]"
   ]
  },
  {
   "cell_type": "markdown",
   "id": "bb2ffa31-6e55-44a6-b0c4-130316d12b74",
   "metadata": {},
   "source": [
    "Now, let's wrote some code to generate a prompt that will contain today's news so the model can summarize them."
   ]
  },
  {
   "cell_type": "code",
   "execution_count": 17,
   "id": "20db803f-563b-4672-ab1a-5e15a9204c4d",
   "metadata": {},
   "outputs": [],
   "source": [
    "def get_descriptions(news):\n",
    "    \"\"\"Get news descriptions from a list of dictionaries, as returned by GNews\n",
    "    \"\"\"\n",
    "    return [article[\"description\"] for article in news]\n",
    "\n",
    "descriptions = get_descriptions(news)\n",
    "descriptions_text = '\\n\\n##\\n\\n'.join(descriptions)"
   ]
  },
  {
   "cell_type": "code",
   "execution_count": 18,
   "id": "6740b01e-928e-4529-afbb-dfb7e09d63ee",
   "metadata": {},
   "outputs": [
    {
     "name": "stderr",
     "output_type": "stream",
     "text": [
      "01/30/2024 04:18:06 PM - HTTP Request: POST https://api.openai.com/v1/chat/completions \"HTTP/1.1 200 OK\"\n"
     ]
    }
   ],
   "source": [
    "system_prompt = f\"\"\"\n",
    "You are a helpful news assistant that can answer questions about today's news.\n",
    "\n",
    "Here are the top news from today (separated by ##):\n",
    "\n",
    "{descriptions_text}\n",
    "\"\"\"\n",
    "\n",
    "response = client.chat.completions.create(\n",
    "  model=\"gpt-3.5-turbo\",\n",
    "  messages=[\n",
    "    {\"role\": \"system\", \"content\": system_prompt},\n",
    "    {\"role\": \"user\", \"content\": \"Give me a short summary of today's news\"},\n",
    "  ],\n",
    "  seed=42,\n",
    "  n=3,\n",
    ")"
   ]
  },
  {
   "cell_type": "code",
   "execution_count": 21,
   "id": "66eea737-7aed-4a44-b626-4e9d29de8c32",
   "metadata": {},
   "outputs": [
    {
     "data": {
      "text/markdown": [
       "\n",
       "### Response 1\n",
       "\n",
       "\n",
       "> Today's news covers a wide range of topics. In international news, the US is preparing for retaliatory strikes after a drone attack by Iran-backed militants, while Israeli forces disguised as medical staff carried out a raid in a West Bank hospital. In US politics, there are attempts to impeach Secretary Mayorkas over border policies, and Rep. Cori Bush is under investigation for alleged misuse of security funds. California is bracing for heavy rainstorms, and there have been arrests made in connection with murders in the Mojave Desert. Tech giants Microsoft and Alphabet reported their earnings, and companies like UPS and Starbucks announced job cuts. The entertainment world mourns the loss of Broadway star Chita Rivera, while Taylor Swift finds herself in the midst of controversy. Other news includes updates on Northern Ireland power-sharing, the situation in Gaza, and the Super Bowl.\n"
      ],
      "text/plain": [
       "<IPython.core.display.Markdown object>"
      ]
     },
     "metadata": {},
     "output_type": "display_data"
    },
    {
     "data": {
      "text/markdown": [
       "\n",
       "### Response 2\n",
       "\n",
       "\n",
       "> Today's news covers a range of topics. \n",
       "> \n",
       "> In international news, the US is preparing retaliatory strikes for a drone attack by Iran-backed militants, undercover Israeli troops dressed as medical staff kill three militants in a West Bank hospital raid, and France's government announces new measures to calm farmers' protests. \n",
       "> \n",
       "> Domestically, there are reports of House Republicans pressing ahead on impeaching Secretary Mayorkas over border policies, Rep. Cori Bush being under investigation for alleged misuse of security funds, and California bracing for heavy rainstorms. \n",
       "> \n",
       "> In tech news, Microsoft's earnings beat expectations, UPS is eliminating about 12,000 jobs, Alphabet (Google's parent company) misses expectations on ad revenue, and Starbucks' earnings disappoint as sales outside the US lag. \n",
       "> \n",
       "> Other news includes Apple's new Stolen Device Protection vulnerability, the death of Broadway star Chita Rivera, Taylor Swift controversy surrounding explicit AI photos, a screening of a 7-hour film about Hitler, and various sports updates. \n",
       "> \n",
       "> Lastly, there are reports on cases of syphilis and measles on the rise in the US, and the potential spread of Alzheimer's disease through medical treatments.\n"
      ],
      "text/plain": [
       "<IPython.core.display.Markdown object>"
      ]
     },
     "metadata": {},
     "output_type": "display_data"
    },
    {
     "data": {
      "text/markdown": [
       "\n",
       "### Response 3\n",
       "\n",
       "\n",
       "> Here are the top news highlights from today:\n",
       "> \n",
       "> 1. The US is preparing retaliatory strikes in response to a drone attack by Iran-backed militants in Jordan.\n",
       "> 2. E. Jean Carroll is facing backlash for saying she will use settlement money from a case against Trump to buy a new wardrobe.\n",
       "> 3. Israeli forces reportedly disguised as medical staff killed three militants in a raid on a West Bank hospital.\n",
       "> 4. House Republicans are pushing for the impeachment of Secretary Mayorkas over border policies.\n",
       "> 5. Democratic Rep. Cori Bush is under investigation by the Justice Department for alleged misuse of security funds.\n",
       "> 6. California is bracing for heavy rainstorms and potential flooding due to atmospheric rivers.\n",
       "> 7. Five individuals have been arrested in connection with the murder of six people in the Mojave Desert over a marijuana dispute.\n",
       "> 8. An Ohio man has been sentenced to 18 years in prison for attempting to firebomb a church that hosted drag shows.\n",
       "> 9. Trump can stay on the Illinois 2024 ballot despite a 14th Amendment challenge.\n",
       "> 10. France has announced new measures to address farmers' protests and blockades around Paris.\n",
       "> 11. After a two-year hiatus, power-sharing in Northern Ireland is set to resume.\n",
       "> 12. Progressives are urging Biden to reverse the pause on Palestine relief funding and improve conditions in Gaza.\n",
       "> 13. Microsoft reports strong earnings, driven by cloud and AI investments.\n",
       "> 14. UPS is cutting 12,000 jobs as part of cost-saving measures.\n",
       "> 15. Alphabet (Google's parent company) misses expectations on ad revenue, causing its stock to drop.\n",
       "> 16. Starbucks reports disappointing earnings, with lagging sales outside the US.\n",
       "> 17. Apple releases the Vision Pro, its augmented reality headset, which sells out after receiving 200,000 pre-orders.\n",
       "> 18. Analysts predict a potential drop in iPhone shipments by 15% in 2024, causing Apple's stock to fall.\n",
       "> 19. Apple introduces a new Stolen Device Protection feature on iOS 17.3, but it has a vulnerability.\n",
       "> 20. Broadway star Chita Rivera passes away at the age of 91.\n",
       "> 21. Taylor Swift becomes the target of AI-generated explicit images, sparking controversy and calls to ban \"deep fakes.\"\n",
       "> 22. A 7-hour epic film about Hitler receives a rare screening.\n",
       "> 23. The NFL's Senior Bowl showcases top prospects for the upcoming draft.\n",
       "> 24. Super Bowl LVIII tickets in Las Vegas could have a record-breaking average price of $12,700.\n",
       "> 25. The NBA trade deadline looms, and teams are evaluating potential deals.\n",
       "> 26. Bill Belichick faces a lack of interest from teams after parting ways with the New England Patriots.\n",
       "> 27. The mystery of why insects are attracted to light at night gets a new explanation.\n",
       "> 28. SpaceX successfully launches a Northrop Grumman cargo ship to the International Space Station.\n",
       "> 29. Rare images potentially show a live newborn great white shark for the first time.\n",
       "> 30. Japan's Moon Lander, thought to be lost, wakes up and shares new images of the lunar surface.\n",
       "> 31. Syphilis cases in the US reach levels not seen since 1950, prompting concerns.\n",
       "> 32. Measles cases resurge in the US due to vaccine skepticism, according to the CDC.\n",
       "> 33. Obesity and alcohol consumption are contributing to a rise in colorectal cancer among younger generations.\n",
       "> 34. Rare cases of possible Alzheimer's transmission have been discovered in recipients of contaminated HGH treatment.\n"
      ],
      "text/plain": [
       "<IPython.core.display.Markdown object>"
      ]
     },
     "metadata": {},
     "output_type": "display_data"
    }
   ],
   "source": [
    "display_response(response)"
   ]
  },
  {
   "cell_type": "markdown",
   "id": "d285a943-5c74-4cbd-8775-2e8755599050",
   "metadata": {},
   "source": [
    "Great! The model is now able to return a summary of today's news. Interestingly, it generated it in three formats: a single paragraph, a few short paragraphs and a list. In a production scenario, we'd most likely want to control the format, so being adding more specifics in the prompt would help. But let's leave it like this for now.\n",
    "\n",
    "An important topic when dealing with factual information are [hallucinations](https://en.wikipedia.org/wiki/Hallucination_(artificial_intelligence)), where models output made-up statements. For this exercise, we won't be checking if the summaries are factually correct, but note that this is a critical concern for any LLM application."
   ]
  },
  {
   "cell_type": "markdown",
   "id": "75fd390e-2c15-4c6a-b4ba-becdeca502ba",
   "metadata": {},
   "source": [
    "## Interlude 1: Asking topic-specific news\n",
    "\n",
    "GPT-3.5 is powerful enough to be able to filter out information for us, let's check this by asking the model to summarize sports news."
   ]
  },
  {
   "cell_type": "code",
   "execution_count": 22,
   "id": "028e1b69-adf6-4754-86e9-f5a4700b3981",
   "metadata": {},
   "outputs": [
    {
     "name": "stderr",
     "output_type": "stream",
     "text": [
      "01/30/2024 04:21:59 PM - HTTP Request: POST https://api.openai.com/v1/chat/completions \"HTTP/1.1 200 OK\"\n"
     ]
    },
    {
     "data": {
      "text/markdown": [
       "\n",
       "### Response 1\n",
       "\n",
       "\n",
       "> In today's sports news, there are updates on various topics. The Senior Bowl, a showcase for NFL draft prospects, is taking place with top players trying to impress teams. The Super Bowl ticket prices are the most expensive in history, and there are predictions and storylines surrounding the San Francisco 49ers and Kansas City Chiefs. Additionally, the NBA trade deadline is approaching, and teams in the Western Conference are looking to make moves. In the NFL, there is speculation about Bill Belichick's coaching future and what Raheem Morris' return to Atlanta means for the Falcons. Finally, there are interesting findings in the world of insects and light, as well as updates on space missions and the alarming rise of syphilis and measles cases in the US.\n"
      ],
      "text/plain": [
       "<IPython.core.display.Markdown object>"
      ]
     },
     "metadata": {},
     "output_type": "display_data"
    },
    {
     "data": {
      "text/markdown": [
       "\n",
       "### Response 2\n",
       "\n",
       "\n",
       "> In today's sports news, the trade deadline in the NBA is approaching, with teams looking to make deals and improve their rosters. Bill Belichick, the head coach of the New England Patriots, is reportedly not in high demand for coaching positions in 2024. There is also speculation about the potential retirement of Travis Kelce, a tight end for the Kansas City Chiefs, after the Super Bowl. In other news, the Senior Bowl is underway, showcasing top prospects for the upcoming NFL Draft. Additionally, researchers may have captured the first image of a live newborn great white shark, and Japan's moon lander has come back to life, sharing new images of the lunar surface.\n"
      ],
      "text/plain": [
       "<IPython.core.display.Markdown object>"
      ]
     },
     "metadata": {},
     "output_type": "display_data"
    },
    {
     "data": {
      "text/markdown": [
       "\n",
       "### Response 3\n",
       "\n",
       "\n",
       "> Today's sports news highlights the upcoming Senior Bowl, where top prospects for the NFL Draft will showcase their skills. The trade deadline in the NBA is also a hot topic, with teams looking to make moves to improve their rosters. In football, there are discussions about the future of Bill Belichick and the return of Raheem Morris to the Atlanta Falcons. In the world of shark science, researchers may have captured the first-ever image of a live newborn great white shark. And in space news, Japan's moon lander has come back to life and is sending back images of the lunar surface.\n"
      ],
      "text/plain": [
       "<IPython.core.display.Markdown object>"
      ]
     },
     "metadata": {},
     "output_type": "display_data"
    }
   ],
   "source": [
    "display_response(client.chat.completions.create(\n",
    "  model=\"gpt-3.5-turbo\",\n",
    "  messages=[\n",
    "    {\"role\": \"system\", \"content\": system_prompt},\n",
    "    {\"role\": \"user\", \"content\": \"Give me a short summary of today's sports news\"},\n",
    "  ],\n",
    "  seed=42,\n",
    "  n=3,\n",
    "))"
   ]
  },
  {
   "cell_type": "markdown",
   "id": "b6146cd0-f5eb-4309-8cb4-a8bd8ad4bfc1",
   "metadata": {},
   "source": [
    "Great! We see that the model's output only mentions sports news and ignores any other topics.\n",
    "\n",
    "So far, we've passed all the news information in the model's prompt, so, why do we need RAGs?\n",
    "\n",
    "LLMs can process a limit amout of information, and this is defined by the model's maximum tokens, for a example, if model has a limit of 100 tokens, it means that the input *and* response cannot exceed 100. [Tokens](https://help.openai.com/en/articles/4936856-what-are-tokens-and-how-to-count-them) are roughly translated into words, but they're not the same, one token is approximately 3/4 of a word, hence, 100 tokens is approximately 75 wors. In consequence.\n",
    "\n",
    "For this example, we're using GPT-3.5, which can process up to 4,096 tokens, or roughly 3,072 words.\n",
    "\n",
    "Imagine if our API returned the top 1,000 news, each one having 20 sentences in the description. That's already 20,000 words! It'd impossible for GPT-3.5 to process such amount of data. That's why we need RAGs, RAGs allow us to more efficiently process data so we only pass relevant information to the LLM.\n",
    "\n",
    "## Interlude 2: Embeddings and vector similarity\n",
    "\n",
    "RAGs rank data to determine what's the most relevant to answer our question. For example, if we ask a question about *sports news*, we'd expect our RAG to rank news about *basketball* higher than the ones about *politics*.\n",
    "\n",
    "In simple terms, this happens through a process called embeddings, where our text is converted into a vector. We're essentially converting text into numbers because it's easier to compare numbers! The trick here is that text that talks about the same topic is closer (in the vector space) than non-related text.\n",
    "\n",
    "OpenAI has an [API](https://platform.openai.com/docs/guides/embeddings/embedding-models) to create embeddings. Let's use it to create an embedding:"
   ]
  },
  {
   "cell_type": "code",
   "execution_count": 27,
   "id": "d15760d6-df00-4e9b-a7b7-9851baccf2fe",
   "metadata": {},
   "outputs": [
    {
     "name": "stdout",
     "output_type": "stream",
     "text": [
      "France's government announces new measures to calm farmers' protests, as barricades squeeze Paris  The Associated PressFrench Farmers Block Roads Around Paris in Growing Standoff  The New York TimesAngry Farmers Cause Highway Mayhem In France Amid Economic Frustration  HuffPostBelgian farmers block roads to Zeebrugge port as French protests spill over  Reuters\n"
     ]
    }
   ],
   "source": [
    "print(descriptions[10])"
   ]
  },
  {
   "cell_type": "code",
   "execution_count": 29,
   "id": "761338fc-68ef-49fe-a127-ec721e9cb615",
   "metadata": {},
   "outputs": [
    {
     "name": "stderr",
     "output_type": "stream",
     "text": [
      "01/30/2024 04:43:43 PM - HTTP Request: POST https://api.openai.com/v1/embeddings \"HTTP/1.1 200 OK\"\n"
     ]
    },
    {
     "name": "stdout",
     "output_type": "stream",
     "text": [
      "[0.009948834, 0.018456765, -0.003657255]\n"
     ]
    }
   ],
   "source": [
    "response = client.embeddings.create(\n",
    "    input=descriptions[10],\n",
    "    model=\"text-embedding-3-small\"\n",
    ")\n",
    "\n",
    "embedding = response.data[0].embedding\n",
    "print(embedding[:3])"
   ]
  },
  {
   "cell_type": "markdown",
   "id": "01df5103-0acc-47c7-b3b1-7a0ec56f5906",
   "metadata": {},
   "source": [
    "I printed the first three numbers in the embedding, we won't care much about their values, all we care is that they allow us to make comparisons!\n",
    "\n",
    "Remember that for a given query, we want to return the most relevant data to answer our question. Hence, we need a way to compare our embeddings and get the most similar oens. One way to do so is via a [KDTree](https://en.wikipedia.org/wiki/K-d_tree). Given a list of vectors, a `KDTree` allows us to find the most similar ones given another vector.\n",
    "\n",
    "As an example, I'll create a KDTree with four vectors, and then query it to find the most similar ones:"
   ]
  },
  {
   "cell_type": "code",
   "execution_count": 33,
   "id": "848933f5-f663-45f7-818c-bd47494572f3",
   "metadata": {},
   "outputs": [],
   "source": [
    "from scipy.spatial import KDTree\n",
    "import numpy as np\n",
    "\n",
    "data = np.array([\n",
    "    [1, 0],\n",
    "    [0, 1],\n",
    "    [-1, 0],\n",
    "    [0, -1],\n",
    "])\n",
    "\n",
    "kdtree = KDTree(data)"
   ]
  },
  {
   "cell_type": "code",
   "execution_count": 34,
   "id": "b4be5ba0-3ad7-4edf-8f9b-52425043dbe1",
   "metadata": {},
   "outputs": [
    {
     "data": {
      "text/plain": [
       "array([1, 0])"
      ]
     },
     "execution_count": 34,
     "metadata": {},
     "output_type": "execute_result"
    }
   ],
   "source": [
    "_, i = kdtree.query([0.999, 0], k=1)\n",
    "data[i]"
   ]
  },
  {
   "cell_type": "code",
   "execution_count": 37,
   "id": "b651645a-aa4c-407e-8323-29fa6c12a67e",
   "metadata": {},
   "outputs": [
    {
     "data": {
      "text/plain": [
       "array([0, 1])"
      ]
     },
     "execution_count": 37,
     "metadata": {},
     "output_type": "execute_result"
    }
   ],
   "source": [
    "_, i = kdtree.query([0, 0.9], k=1)\n",
    "data[i]"
   ]
  },
  {
   "cell_type": "code",
   "execution_count": 38,
   "id": "bf949159-4c2c-4cad-85a5-6f1c86751cdc",
   "metadata": {},
   "outputs": [
    {
     "data": {
      "text/plain": [
       "array([ 0, -1])"
      ]
     },
     "execution_count": 38,
     "metadata": {},
     "output_type": "execute_result"
    }
   ],
   "source": [
    "_, i = kdtree.query([0, -0.7], k=1)\n",
    "data[i]"
   ]
  },
  {
   "cell_type": "code",
   "execution_count": 39,
   "id": "c7182734-fd54-4124-82fe-306c2035d8e9",
   "metadata": {},
   "outputs": [
    {
     "data": {
      "text/plain": [
       "array([-1,  0])"
      ]
     },
     "execution_count": 39,
     "metadata": {},
     "output_type": "execute_result"
    }
   ],
   "source": [
    "_, i = kdtree.query([-0.8, 0.002], k=1)\n",
    "data[i]"
   ]
  },
  {
   "cell_type": "markdown",
   "id": "25839458-6716-490c-9bbf-b0399e7852ee",
   "metadata": {},
   "source": [
    "If you've read about RAGs before, you probably encountered the term *vector databases*, at its core they serve the same purpose as a `KDTree`: they allow us to find similar vectors.\n",
    "\n",
    "Note something critical: since we're comparing similarity, our `KDTree` will **always** return an answer (the `k` most similar vectors), even if the topic has nothing to do with our LLM query. For example, if we ask about sports but we created all our embeddings from politics news, we'll still get an answer."
   ]
  },
  {
   "cell_type": "markdown",
   "id": "c70b0612-7bc2-4c2b-a43e-84f87421bfab",
   "metadata": {},
   "source": [
    "## Interlude 3: Caching embeddings\n",
    "\n",
    "To reduce the number of API calls, we'll create a small embeddings store that will cache embeddings locally in a `.json` file."
   ]
  },
  {
   "cell_type": "code",
   "execution_count": 40,
   "id": "6ac2a41f-ffcd-48c4-9226-2008a13cceee",
   "metadata": {},
   "outputs": [],
   "source": [
    "from pathlib import Path\n",
    "import json\n",
    "\n",
    "class EmbeddingsStore:\n",
    "    def __init__(self):\n",
    "        self._path = Path(\"embeddings.json\")\n",
    "\n",
    "        if not self._path.exists():\n",
    "            self._data = {}\n",
    "        else:\n",
    "            self._data = json.loads(self._path.read_text())\n",
    "\n",
    "    def get_one(self, text):\n",
    "        if text in self._data:\n",
    "            return self._data[text]\n",
    "        \n",
    "        response = client.embeddings.create(\n",
    "            input=text,\n",
    "            model=\"text-embedding-3-small\"\n",
    "        )\n",
    "\n",
    "        embedding = response.data[0].embedding\n",
    "\n",
    "        self._data[text] = embedding\n",
    "        self._path.write_text(json.dumps(self._data))\n",
    "\n",
    "        return embedding\n",
    "\n",
    "\n",
    "    def get_many(self, content):\n",
    "        return [self.get_one(text) for text in content]\n",
    "\n",
    "    def __len__(self):\n",
    "        return len(self._data)"
   ]
  },
  {
   "cell_type": "code",
   "execution_count": 41,
   "id": "073b89ba-a03d-4da0-92c5-222cae1fa2ed",
   "metadata": {},
   "outputs": [
    {
     "data": {
      "text/plain": [
       "0"
      ]
     },
     "execution_count": 41,
     "metadata": {},
     "output_type": "execute_result"
    }
   ],
   "source": [
    "store = EmbeddingsStore()\n",
    "len(store)"
   ]
  },
  {
   "cell_type": "markdown",
   "id": "def6b47b-1338-4824-a4cf-b17151758ec6",
   "metadata": {},
   "source": [
    "## Interlude 4: Comparing embeddings\n",
    "\n",
    "To illustrate the point that embeddings are closer to each other if their corresponding text talks about similar topics, we'll compute the embeddings for a few words:"
   ]
  },
  {
   "cell_type": "code",
   "execution_count": 43,
   "id": "1bc7e9d7-645e-4a48-b83b-db632feae666",
   "metadata": {},
   "outputs": [],
   "source": [
    "words = [\"Soccer\", \"Basketball\", \"Politics\", \"Movies\"]\n",
    "words_embeddings = store.get_many(words)\n",
    "kdtree_words = KDTree(np.array(words_embeddings))"
   ]
  },
  {
   "cell_type": "markdown",
   "id": "78d62ecf-1458-4dfb-847c-172f078c8b06",
   "metadata": {},
   "source": [
    "Now, let's find the most similar word (from the `words` list) to a few new words:"
   ]
  },
  {
   "cell_type": "code",
   "execution_count": 50,
   "id": "5dd5f052-a313-4910-b3c8-d8b1eac5e6ba",
   "metadata": {},
   "outputs": [
    {
     "data": {
      "text/plain": [
       "'Soccer'"
      ]
     },
     "execution_count": 50,
     "metadata": {},
     "output_type": "execute_result"
    }
   ],
   "source": [
    "_, i = kdtree_topics.query(store.get_one(\"Sports\"), k=1)\n",
    "words[i]"
   ]
  },
  {
   "cell_type": "code",
   "execution_count": 52,
   "id": "6026e9b4-4710-46b0-8797-e8d1b1dd5bfd",
   "metadata": {},
   "outputs": [
    {
     "data": {
      "text/plain": [
       "'Movies'"
      ]
     },
     "execution_count": 52,
     "metadata": {},
     "output_type": "execute_result"
    }
   ],
   "source": [
    "_, i = kdtree_topics.query(store.get_one(\"Films\"), k=1)\n",
    "words[i]"
   ]
  },
  {
   "cell_type": "markdown",
   "id": "f5d3a9b8-7461-42dc-a890-73157be384d8",
   "metadata": {},
   "source": [
    "## Interlude 4: computing embeddings for news descriptions\n",
    "\n",
    "Now, let's compute the embeddings for all the 38 news returned by `GNews`."
   ]
  },
  {
   "cell_type": "code",
   "execution_count": 56,
   "id": "e6dadc2f-ed71-47b7-af6f-48954a2ce830",
   "metadata": {},
   "outputs": [],
   "source": [
    "embeddings_news = store.get_many(descriptions)\n",
    "kdtree_news = KDTree(np.array(embeddings_news))"
   ]
  },
  {
   "cell_type": "markdown",
   "id": "16a1ab73-1f8c-448b-b128-b495f3e7a6a8",
   "metadata": {},
   "source": [
    "Let's test our embeddings by checking what are the most relevant news for a given query."
   ]
  },
  {
   "cell_type": "code",
   "execution_count": 59,
   "id": "99b8dbd1-844a-450a-b7fe-4e5e344b8563",
   "metadata": {},
   "outputs": [
    {
     "data": {
      "text/plain": [
       "\"Can Biden ‘shut down’ the border right now?  The HillIn Biden’s pledge to ‘shut down’ border, a stunning political shift  CNNWhite House demands Speaker Johnson give Biden 'authority and funding' to 'secure the border'  Fox NewsSenate nears bipartisan border deal that Trump calls 'disaster'  ABC NewsTrump, House Republicans plot to kill border deal  Axios\""
      ]
     },
     "execution_count": 59,
     "metadata": {},
     "output_type": "execute_result"
    }
   ],
   "source": [
    "_, i = kdtree_news.query(store.get_one(\"Mexico\"), k=1)\n",
    "descriptions[i]"
   ]
  },
  {
   "cell_type": "markdown",
   "id": "70773319-576b-4ddf-98cc-5633b39aaa29",
   "metadata": {},
   "source": [
    "Interesting! Even though the description doesn't contain the word \"Mexico\", our embeddings correctly captured the news meaning, returning an accurate result.\n",
    "\n",
    "Let's try with a few more:"
   ]
  },
  {
   "cell_type": "code",
   "execution_count": 61,
   "id": "1c2324c1-1ded-4409-be33-1258983e8c90",
   "metadata": {},
   "outputs": [
    {
     "data": {
      "text/plain": [
       "\"Giants Reporter Heard ‘Dirty Little Secret’ About Bill Belichick  NESNWhy There Was No Market for Bill Belichick to Coach in 2024  Sports IllustratedWhat Raheem Morris' return to Atlanta means for the Falcons  ESPNBill Belichick's next coaching job? No team wants to give him full control now, but don't count out 2025  CBS SportsNFL Rumors: Bill Belichick 'Believes Having No Job' Is Better Than Wrong Fit as HC  Bleacher Report\""
      ]
     },
     "execution_count": 61,
     "metadata": {},
     "output_type": "execute_result"
    }
   ],
   "source": [
    "_, i = kdtree_news.query(store.get_one(\"NFL\"), k=1)\n",
    "descriptions[i]"
   ]
  },
  {
   "cell_type": "code",
   "execution_count": 64,
   "id": "0222c02a-1e68-4109-9727-cdecb16db8a4",
   "metadata": {},
   "outputs": [
    {
     "data": {
      "text/plain": [
       "\"Apple Vision Pro review: magic, until it's not  The VergeApple Vision Pro review: This is the future of computing and entertainment  CNBCI've tried Vision Pro and other top XR headsets and here's the one most people should buy  ZDNetApple sells out of Vision Pro headsets after getting 200K pre-orders  New York Post \""
      ]
     },
     "execution_count": 64,
     "metadata": {},
     "output_type": "execute_result"
    }
   ],
   "source": [
    "_, i = kdtree_news.query(store.get_one(\"Tech\"), k=1)\n",
    "descriptions[i]"
   ]
  },
  {
   "cell_type": "markdown",
   "id": "46a73e9f-26eb-4346-969d-b4e0e1344b91",
   "metadata": {},
   "source": [
    "## Approach 3: Our first RAG\n",
    "\n",
    "Now that we've explained all the pieces, we're ready to build our first RAG, this is what will happen:\n",
    "\n",
    "1. We pre-fetch today's news\n",
    "2. When a user enters a query, we find the top `k` news by looking at their embeddings\n",
    "3. We pass the top `k` news along with the query so the LLM can answer the question"
   ]
  },
  {
   "cell_type": "code",
   "execution_count": 66,
   "id": "bfc89032-bb65-42e6-bf1d-066e793d0142",
   "metadata": {},
   "outputs": [],
   "source": [
    "def news_rag(user_query, verbose=False):\n",
    "    \"\"\"A RAG that returns a summary of today's news based on a query\n",
    "    \"\"\"\n",
    "    # note that we've arbitrarily fixed k=3\n",
    "    _, indexes = kdtree_news.query(store.get_one(user_query), k=3)\n",
    "\n",
    "    descriptions_relevant = [descriptions[i] for i in indexes]\n",
    "    descriptions_text = '\\n\\n##\\n\\n'.join(descriptions_relevant)\n",
    "\n",
    "    system_prompt = f\"\"\"\n",
    "You are a helpful news assistant that can answer questions about today's news.\n",
    "\n",
    "Here are the top news from today (separated by ##), use these to generate your answer,\n",
    "and disregard news that are not relevant to answer the question:\n",
    "\n",
    "{descriptions_text}\n",
    "\"\"\"\n",
    "\n",
    "    if verbose:\n",
    "        print(f\"System prompt: {system_prompt}\")\n",
    "\n",
    "    display_response(client.chat.completions.create(\n",
    "          model=\"gpt-3.5-turbo\",\n",
    "          messages=[\n",
    "    {\"role\": \"system\", \"content\": system_prompt},\n",
    "    {\"role\": \"user\", \"content\": user_query},\n",
    "  ],\n",
    "  seed=42,\n",
    "  n=2,\n",
    "    ))"
   ]
  },
  {
   "cell_type": "code",
   "execution_count": 67,
   "id": "effe52e6-4b8f-443e-abd9-a0694ceba255",
   "metadata": {},
   "outputs": [
    {
     "name": "stderr",
     "output_type": "stream",
     "text": [
      "01/30/2024 06:12:45 PM - HTTP Request: POST https://api.openai.com/v1/embeddings \"HTTP/1.1 200 OK\"\n",
      "01/30/2024 06:12:49 PM - HTTP Request: POST https://api.openai.com/v1/chat/completions \"HTTP/1.1 200 OK\"\n"
     ]
    },
    {
     "data": {
      "text/markdown": [
       "\n",
       "### Response 1\n",
       "\n",
       "\n",
       "> The most recent sports news is about the NBA trade deadline and the Senior Bowl.\n",
       "> \n",
       "> In the NBA, teams are preparing for the trade deadline, which is on February 8th. The Western Conference teams are assessing their needs and exploring ways to make trades to improve their roster. This is a hot topic among fans and analysts, with many players being mentioned as potential trade candidates.\n",
       "> \n",
       "> In the NFL, the Senior Bowl is taking place, featuring top prospects for the upcoming NFL Draft. The Senior Bowl is an important event where players can showcase their skills and impress scouts. There have been live updates on practices, highlighting players who are performing well and potentially boosting their draft stock.\n",
       "> \n",
       "> In other news, there have been rumors and discussions about Bill Belichick, the head coach of the New England Patriots. There have been reports about a \"dirty little secret\" surrounding him, as well as speculation about his future coaching job prospects. It appears that there may be some hesitation from teams to give him full control, but it is believed that he will continue coaching in the future.\n"
      ],
      "text/plain": [
       "<IPython.core.display.Markdown object>"
      ]
     },
     "metadata": {},
     "output_type": "display_data"
    },
    {
     "data": {
      "text/markdown": [
       "\n",
       "### Response 2\n",
       "\n",
       "\n",
       "> The most recent sports news includes updates on the NBA trade deadline goals and players likely to be traded, as well as news related to the 2024 Senior Bowl and Bill Belichick's coaching prospects.\n",
       "> \n",
       "> In the NBA, teams in the Western Conference have set their trade deadline goals and are exploring ways to achieve them. Various sources have provided lists of interesting players who could potentially be on the move before the deadline. The Chicago Bulls, Golden State Warriors, and other teams are being closely watched as the trade deadline approaches. \n",
       "> \n",
       "> For football fans, the 2024 Senior Bowl is taking place, featuring top prospects for the NFL Draft. The event has been generating excitement, and there are updates on practices, risers, and player measurements. One player to keep an eye on is Oregon quarterback Bo Nix. \n",
       "> \n",
       "> In other news, there have been discussions about New England Patriots head coach Bill Belichick. Reports have emerged about a \"dirty little secret\" concerning Belichick heard by a Giants reporter. There has also been speculation as to why there was no market for Belichick to coach in 2024. Additionally, there are discussions about the return of Raheem Morris to the Atlanta Falcons coaching staff and the possibility of Belichick finding a new coaching job in 2025.\n"
      ],
      "text/plain": [
       "<IPython.core.display.Markdown object>"
      ]
     },
     "metadata": {},
     "output_type": "display_data"
    }
   ],
   "source": [
    "news_rag(\"Tell me the most recent sports news\")"
   ]
  },
  {
   "cell_type": "markdown",
   "id": "a3715fbc-22bf-4cc6-b59b-79b9ec413634",
   "metadata": {},
   "source": [
    "It's working! We can see that the news are relevant to the user's query (sports). Let's pass `verbose=True` to see what the prompt is:"
   ]
  },
  {
   "cell_type": "code",
   "execution_count": 68,
   "id": "9d71eaf7-7a0c-46bb-81b5-448f05b0b4ab",
   "metadata": {},
   "outputs": [
    {
     "name": "stderr",
     "output_type": "stream",
     "text": [
      "01/30/2024 06:13:20 PM - HTTP Request: POST https://api.openai.com/v1/embeddings \"HTTP/1.1 200 OK\"\n"
     ]
    },
    {
     "name": "stdout",
     "output_type": "stream",
     "text": [
      "System prompt: \n",
      "You are a helpful news assistant that can answer questions about today's news.\n",
      "\n",
      "Here are the top news from today (separated by ##), use these to generate your answer,\n",
      "and disregard news that are not relevant to answer the question:\n",
      "\n",
      "Can Biden ‘shut down’ the border right now?  The HillIn Biden’s pledge to ‘shut down’ border, a stunning political shift  CNNWhite House demands Speaker Johnson give Biden 'authority and funding' to 'secure the border'  Fox NewsSenate nears bipartisan border deal that Trump calls 'disaster'  ABC NewsTrump, House Republicans plot to kill border deal  Axios\n",
      "\n",
      "##\n",
      "\n",
      "House Republicans Press Ahead on Impeaching Mayorkas Over Border Policies  The New York TimesLawmakers attempt to impeach Secretary Mayorkas over border crisis  Fox NewsEvening Report — GOP presses ahead on Mayorkas impeachment  The Hill\n",
      "\n",
      "##\n",
      "\n",
      "Trump can stay on Illinois 2024 ballot after 14th Amendment challenge, officials say  ABC NewsView Full Coverage on Google News\n",
      "\n"
     ]
    },
    {
     "name": "stderr",
     "output_type": "stream",
     "text": [
      "01/30/2024 06:13:23 PM - HTTP Request: POST https://api.openai.com/v1/chat/completions \"HTTP/1.1 200 OK\"\n"
     ]
    },
    {
     "data": {
      "text/markdown": [
       "\n",
       "### Response 1\n",
       "\n",
       "\n",
       "> In US politics today, there were several significant events. \n",
       "> \n",
       "> Firstly, there is a debate surrounding President Biden's ability to \"shut down\" the border. This follows a stunning political shift in Biden's pledge to address border issues. The White House is demanding that Speaker Johnson provide Biden with the authority and funding needed to secure the border. Additionally, the Senate is nearing a bipartisan border deal that has been criticized by former President Trump.\n",
       "> \n",
       "> In other news, House Republicans are pressing ahead with efforts to impeach Secretary Mayorkas over border policies. This comes as lawmakers attempt to address the ongoing border crisis.\n",
       "> \n",
       "> Lastly, in a separate development, officials have stated that former President Trump can remain on the Illinois 2024 ballot despite a 14th Amendment challenge.\n",
       "> \n",
       "> These are the key highlights from today's US politics news.\n"
      ],
      "text/plain": [
       "<IPython.core.display.Markdown object>"
      ]
     },
     "metadata": {},
     "output_type": "display_data"
    },
    {
     "data": {
      "text/markdown": [
       "\n",
       "### Response 2\n",
       "\n",
       "\n",
       "> Today in US politics, there were several key developments. \n",
       "> \n",
       "> Firstly, there were discussions surrounding President Biden's stance on the border. Biden pledged to \"shut down\" the border, representing a significant political shift. The White House demanded that Speaker Johnson grant Biden the necessary authority and funding to secure the border. Meanwhile, the Senate is nearing a bipartisan border deal that has been criticized by former President Trump.\n",
       "> \n",
       "> In addition, House Republicans are pressing forward with attempts to impeach Secretary Mayorkas over the border crisis. This move has brought attention to ongoing concerns surrounding border policies.\n",
       "> \n",
       "> Lastly, there was news regarding former President Trump's potential eligibility to be on the Illinois 2024 ballot. Officials have stated that Trump can remain on the ballot after a challenge based on the 14th Amendment.\n",
       "> \n",
       "> These are the major events that occurred today in US politics.\n"
      ],
      "text/plain": [
       "<IPython.core.display.Markdown object>"
      ]
     },
     "metadata": {},
     "output_type": "display_data"
    }
   ],
   "source": [
    "news_rag(\"What happened in US politics today?\", verbose=True)"
   ]
  },
  {
   "cell_type": "markdown",
   "id": "488b76bb-fdb7-42cd-b442-c1d618b871a9",
   "metadata": {},
   "source": [
    "As we can see, our `KDTree` is correctly retrieving news regarding US politics.\n",
    "\n",
    "What happens if we ask about a topic that our RAG doesn't know about?"
   ]
  },
  {
   "cell_type": "code",
   "execution_count": 70,
   "id": "f36f909f-c42b-4318-930f-50d04329ae9d",
   "metadata": {},
   "outputs": [
    {
     "name": "stdout",
     "output_type": "stream",
     "text": [
      "System prompt: \n",
      "You are a helpful news assistant that can answer questions about today's news.\n",
      "\n",
      "Here are the top news from today (separated by ##), use these to generate your answer,\n",
      "and disregard news that are not relevant to answer the question:\n",
      "\n",
      "France's government announces new measures to calm farmers' protests, as barricades squeeze Paris  The Associated PressFrench Farmers Block Roads Around Paris in Growing Standoff  The New York TimesAngry Farmers Cause Highway Mayhem In France Amid Economic Frustration  HuffPostBelgian farmers block roads to Zeebrugge port as French protests spill over  Reuters\n",
      "\n",
      "##\n",
      "\n",
      "Can Biden ‘shut down’ the border right now?  The HillIn Biden’s pledge to ‘shut down’ border, a stunning political shift  CNNWhite House demands Speaker Johnson give Biden 'authority and funding' to 'secure the border'  Fox NewsSenate nears bipartisan border deal that Trump calls 'disaster'  ABC NewsTrump, House Republicans plot to kill border deal  Axios\n",
      "\n",
      "##\n",
      "\n",
      "Northern Ireland power-sharing could resume within days, after two-year hiatus  CNNSinn Féin says united Ireland 'within touching distance' as Stormont deal agreed  The GuardianD.U.P. Deal With U.K. to Restore Power-Sharing in Northern Ireland  The New York TimesNorthern Ireland political party agrees to end 2-year boycott and restore the mothballed government  ABC NewsNorthern Ireland agreement could end deadlock, restore government  Al Jazeera English\n",
      "\n"
     ]
    },
    {
     "name": "stderr",
     "output_type": "stream",
     "text": [
      "01/30/2024 06:15:52 PM - HTTP Request: POST https://api.openai.com/v1/chat/completions \"HTTP/1.1 200 OK\"\n"
     ]
    },
    {
     "data": {
      "text/markdown": [
       "\n",
       "### Response 1\n",
       "\n",
       "\n",
       "> I'm sorry, but I don't have any information on what happened in Colombia today.\n"
      ],
      "text/plain": [
       "<IPython.core.display.Markdown object>"
      ]
     },
     "metadata": {},
     "output_type": "display_data"
    },
    {
     "data": {
      "text/markdown": [
       "\n",
       "### Response 2\n",
       "\n",
       "\n",
       "> I'm sorry, but I don't have any information about events in Colombia today.\n"
      ],
      "text/plain": [
       "<IPython.core.display.Markdown object>"
      ]
     },
     "metadata": {},
     "output_type": "display_data"
    }
   ],
   "source": [
    "news_rag(\"What happened in Colombia today?\", verbose=True)"
   ]
  },
  {
   "cell_type": "markdown",
   "id": "07a22d4f-4a6b-4808-9995-00a7ff303f08",
   "metadata": {},
   "source": [
    "As we discussed earlier, our `KDTree` will *always* return an answer, even though the current set of news that we retrieved don't have any news regarding Colombia, our vector similarity still returned two results. Luckily, the LLM correctly disregarded them as they do not contain any relevant information."
   ]
  },
  {
   "cell_type": "markdown",
   "id": "e3e0f50b-101c-4366-919b-702b42aba8cc",
   "metadata": {},
   "source": [
    "## Approach 4: Our first agent\n",
    "\n",
    "In our current RAG, we're using the LLM as a text summarizer: we get relevant information and ask the LLM to summarize the information. But LLMs are much more powerful than that and there's no reason to limit ourselves. We can break the problem at hand in multiple pieces and then embed the LLM so it solves each of those smaller (and presumably easier) problems.\n",
    "\n",
    "In today's LLM jargon, this is known as an [agent](https://developer.nvidia.com/blog/introduction-to-llm-agents/):\n",
    "\n",
    "> [an AI agent] is a system that can use an LLM to reason through a problem, create a plan to solve the problem, and execute the plan with the help of a set of tools. \n",
    "\n",
    "Let's build our first agent!\n",
    "\n",
    "So far, we've only used `GNews.get_news()` to retrieve today's top news, this function returns the top today's news across all topics, hence, it only contains a handful of news for each topic. We can make our system more powerful by allowing it to figure out the topic first and then retrieving all the news from that topic. To do so, let's use an LLM as a topic classifier."
   ]
  },
  {
   "cell_type": "code",
   "execution_count": 71,
   "id": "e09cb74d-1dd8-4fc8-a8c9-50ec9a7ebd13",
   "metadata": {},
   "outputs": [],
   "source": [
    "# these are the values that the GNews.get_news_by_topic function can take\n",
    "TOPICS = {\"WORLD\", \"NATION\", \"BUSINESS\", \"TECHNOLOGY\", \"ENTERTAINMENT\",\n",
    "          \"SPORTS\", \"SCIENCE\", \"HEALTH\"}"
   ]
  },
  {
   "cell_type": "code",
   "execution_count": 72,
   "id": "06843ca2-9094-4d85-8c3a-d0aef1a52c87",
   "metadata": {},
   "outputs": [],
   "source": [
    "def topic_classifier(user_query):\n",
    "    \"\"\"Given a user query, return a topic that GNews can process\n",
    "    \"\"\"\n",
    "    topics_ = \", \".join(TOPICS)\n",
    "    system_prompt = f\"\"\"\n",
    "You're a system that determines the topic of a news question.\n",
    "\n",
    "You must classify a user prompt into one of the following values:\n",
    "\n",
    "{topics_}\n",
    "\"\"\"\n",
    "    \n",
    "    response = client.chat.completions.create(\n",
    "          model=\"gpt-3.5-turbo\",\n",
    "          messages=[\n",
    "    {\"role\": \"system\", \"content\": system_prompt},\n",
    "    {\"role\": \"user\", \"content\": \"What happened in soccer today?\"},\n",
    "    {\"role\": \"system\", \"content\": \"SPORTS\"},\n",
    "    {\"role\": \"user\", \"content\": \"I want to know biz news\"},\n",
    "    {\"role\": \"system\", \"content\": \"BUSINESS\"},\n",
    "    {\"role\": \"user\", \"content\": user_query},\n",
    "  ],\n",
    "  seed=42,\n",
    "  n=1,\n",
    ")\n",
    "    return response.choices[0].message.content"
   ]
  },
  {
   "cell_type": "markdown",
   "id": "e805bbd8-2952-41c6-b6a9-f36ca479b7ac",
   "metadata": {},
   "source": [
    "Let's test our function:"
   ]
  },
  {
   "cell_type": "code",
   "execution_count": 73,
   "id": "50ffcb75-c3f8-411c-ad1a-a68807124d04",
   "metadata": {},
   "outputs": [
    {
     "name": "stderr",
     "output_type": "stream",
     "text": [
      "01/30/2024 06:27:49 PM - HTTP Request: POST https://api.openai.com/v1/chat/completions \"HTTP/1.1 200 OK\"\n"
     ]
    },
    {
     "data": {
      "text/plain": [
       "'ENTERTAINMENT'"
      ]
     },
     "execution_count": 73,
     "metadata": {},
     "output_type": "execute_result"
    }
   ],
   "source": [
    "topic_classifier(\"what's new in the movie industry\")"
   ]
  },
  {
   "cell_type": "code",
   "execution_count": 74,
   "id": "fe1eee11-353d-4974-8f3f-3c65ba6bb870",
   "metadata": {},
   "outputs": [
    {
     "name": "stderr",
     "output_type": "stream",
     "text": [
      "01/30/2024 06:27:52 PM - HTTP Request: POST https://api.openai.com/v1/chat/completions \"HTTP/1.1 200 OK\"\n"
     ]
    },
    {
     "data": {
      "text/plain": [
       "'BUSINESS'"
      ]
     },
     "execution_count": 74,
     "metadata": {},
     "output_type": "execute_result"
    }
   ],
   "source": [
    "topic_classifier(\"How's the stock market going?\")"
   ]
  },
  {
   "cell_type": "code",
   "execution_count": 80,
   "id": "270e99db-e486-463a-8269-f0c1535875f2",
   "metadata": {},
   "outputs": [],
   "source": [
    "def news_agent(user_query, verbose=False):\n",
    "    \"\"\"An agent that can retrieve news by topic and summarizes them\n",
    "    \"\"\"\n",
    "    # determine the topic based on the query\n",
    "    topic = topic_classifier(user_query)\n",
    "\n",
    "    if verbose:\n",
    "        print(f\"Topic: {topic}\")\n",
    "\n",
    "    # get news that correspond to the selected topic\n",
    "    news = google_news.get_news_by_topic(topic)\n",
    "\n",
    "    descriptions = get_descriptions(news)\n",
    "\n",
    "    # compute the embeddings for the retrieved news\n",
    "    embeddings = store.get_many(descriptions)\n",
    "\n",
    "    # find the 10 most relevant news given the query\n",
    "    kdtree = KDTree(np.array(embeddings))\n",
    "    _, indexes = kdtree.query(store.get_one(user_query), k=10)\n",
    "\n",
    "    descriptions_relevant = [descriptions[i] for i in indexes]\n",
    "\n",
    "    descriptions_text = '\\n\\n##\\n\\n'.join(descriptions_relevant)\n",
    "\n",
    "    system_prompt = f\"\"\"\n",
    "You are a helpful news assistant that can answer questions about today's news.\n",
    "\n",
    "Here are the top news from today (separated by ##), use these to generate your answer,\n",
    "and disregard news that are not relevant to answer the question:\n",
    "\n",
    "{descriptions_text}\n",
    "\"\"\"\n",
    "\n",
    "\n",
    "    if verbose:\n",
    "        print(f\"System prompt: {system_prompt}\")\n",
    "\n",
    "\n",
    "    display_response(client.chat.completions.create(\n",
    "          model=\"gpt-3.5-turbo\",\n",
    "          messages=[\n",
    "    {\"role\": \"system\", \"content\": system_prompt},\n",
    "    {\"role\": \"user\", \"content\": user_query},\n",
    "  ],\n",
    "  seed=42,\n",
    "  n=1,\n",
    "    ))"
   ]
  },
  {
   "cell_type": "markdown",
   "id": "4a9dcb7d-4000-430a-a766-efa3715e1587",
   "metadata": {},
   "source": [
    "Let's run our agent! We'll run it with `verbose=True` so we get some extra feedback on what's happening:"
   ]
  },
  {
   "cell_type": "code",
   "execution_count": 82,
   "id": "fad738ce-8c6e-409b-bb5b-a232e162abdb",
   "metadata": {},
   "outputs": [
    {
     "name": "stderr",
     "output_type": "stream",
     "text": [
      "01/30/2024 06:54:47 PM - HTTP Request: POST https://api.openai.com/v1/chat/completions \"HTTP/1.1 200 OK\"\n"
     ]
    },
    {
     "name": "stdout",
     "output_type": "stream",
     "text": [
      "Topic: ENTERTAINMENT\n",
      "System prompt: \n",
      "You are a helpful news assistant that can answer questions about today's news.\n",
      "\n",
      "Here are the top news from today (separated by ##), use these to generate your answer,\n",
      "and disregard news that are not relevant to answer the question:\n",
      "\n",
      "Melinda Wilson, Wife of Brian Wilson and Architect of His Comeback, Dead at 77  Rolling StoneBeach Boys' Brian Wilson's Wife Melinda Dead at 77  PEOPLEBeach Boys frontman Brian Wilson announces death of his wife: 'We are lost'  Fox NewsBrian Wilson's Wife Melinda Ledbetter Dead At 77  HuffPostThe Beach Boys frontman Brian Wilson makes heartbreaking announcement on social media  PennLive\n",
      "\n",
      "##\n",
      "\n",
      "Nintendo, Monsters of the Dark Universe, and More Collide at Universal's Epic Theme Park  GizmodoUniversal unveils Epic Universe details, rides, restaurants  Orlando SentinelUniversal's New Epic Universe Theme Park Revealed: Nintendo, Harry Potter, Dark Universe, and More  IGNSuper Nintendo World opens in Florida next year  The VergeUniversal Orlando announces Epic lands at new theme park  ABC Action News Tampa Bay\n",
      "\n",
      "##\n",
      "\n",
      "Will Taylor Swift be at 2024 Super Bowl to see Chiefs' Travis Kelce? How Japan tour dates align with big game  CBS SportsFootball Stadium Employee Offers Candid Opinion After 'Very Surreal' Taylor Swift Encounter  Yahoo LifeDonna Kelce gifted Taylor Swift the Travis Kelce jersey ring she wore to Chiefs vs. Ravens playoff game  Page SixKylie Kelce Talks 'Positive' Impact of Getting Girls into the NFL — and Reveals Husband Jason's Hidden Talent  PEOPLETravis Kelce Will Not Attend Grammys For Taylor Swift's Big Night  TMZ\n",
      "\n",
      "##\n",
      "\n",
      "Chita Rivera, quintessential Broadway musical star, dies at 91  The Washington PostChita Rivera, Electrifying Star of Broadway and Beyond, Is Dead at 91  The New York Times'West Side Story' star Rita Moreno mourns Chita Rivera, calls her 'the essence of Broadway'  USA TODAYChita Rivera, Tony Award-winning actress and singer, dead at 91  CNN'Dim the lights on Broadway' to honour Chita Rivera, says Catherine Zeta-Jones  The Independent\n",
      "\n",
      "##\n",
      "\n",
      "X is being flooded with graphic Taylor Swift AI images  The VergeThe Taylor Swift deepfake debacle was frustratingly preventable  TechCrunch\n",
      "\n",
      "##\n",
      "\n",
      "X is being flooded with graphic Taylor Swift AI images  The VergeThe Taylor Swift deepfake debacle was frustratingly preventable  TechCrunch\n",
      "\n",
      "##\n",
      "\n",
      "X is being flooded with graphic Taylor Swift AI images  The VergeThe Taylor Swift deepfake debacle was frustratingly preventable  TechCrunch\n",
      "\n",
      "##\n",
      "\n",
      "X is being flooded with graphic Taylor Swift AI images  The VergeThe Taylor Swift deepfake debacle was frustratingly preventable  TechCrunch\n",
      "\n",
      "##\n",
      "\n",
      "X is being flooded with graphic Taylor Swift AI images  The VergeThe Taylor Swift deepfake debacle was frustratingly preventable  TechCrunch\n",
      "\n",
      "##\n",
      "\n",
      "X is being flooded with graphic Taylor Swift AI images  The VergeThe Taylor Swift deepfake debacle was frustratingly preventable  TechCrunch\n",
      "\n"
     ]
    },
    {
     "name": "stderr",
     "output_type": "stream",
     "text": [
      "01/30/2024 06:55:05 PM - HTTP Request: POST https://api.openai.com/v1/chat/completions \"HTTP/1.1 200 OK\"\n"
     ]
    },
    {
     "data": {
      "text/markdown": [
       "\n",
       "### Response 1\n",
       "\n",
       "\n",
       "> One of the latest news in the film industry is the announcement of Universal's new Epic Universe theme park. It will feature attractions based on popular franchises such as Nintendo, Harry Potter, and the Dark Universe. The park is set to open in Florida next year and has generated much excitement among fans. Additionally, there have been reports of flooding X with graphic Taylor Swift AI images, creating a deepfake debacle. This incident has been deemed preventable and has sparked discussions around the issue of deepfake technology in the film industry.\n"
      ],
      "text/plain": [
       "<IPython.core.display.Markdown object>"
      ]
     },
     "metadata": {},
     "output_type": "display_data"
    }
   ],
   "source": [
    "news_agent(\"Tell me the latest news in the film industry\", verbose=True)"
   ]
  },
  {
   "cell_type": "markdown",
   "id": "777799c0-fe4c-4a63-899b-c5b52b8b004e",
   "metadata": {},
   "source": [
    "We can see a few interesting things here!\n",
    "\n",
    "First, There's an issue with `GNews`, as it's returning the same news multiple times. But the model is able to ignore the redundant information. Unlike the first RAG, this one can retrieve more information since it retrieves more granular information (by retrieving news by a given topic). Lastly, we see a hallucination, one of the retrieved news talks about Taylor Swift's AI-generated images, but it doesn't mention anything regarding the film industry, yet, our model says so in the response.\n",
    "\n",
    "Let's try one more time:"
   ]
  },
  {
   "cell_type": "code",
   "execution_count": 84,
   "id": "42c2a76a-1460-4e25-a345-1583c333247a",
   "metadata": {},
   "outputs": [
    {
     "name": "stderr",
     "output_type": "stream",
     "text": [
      "01/30/2024 06:58:49 PM - HTTP Request: POST https://api.openai.com/v1/chat/completions \"HTTP/1.1 200 OK\"\n",
      "01/30/2024 06:59:06 PM - HTTP Request: POST https://api.openai.com/v1/chat/completions \"HTTP/1.1 200 OK\"\n"
     ]
    },
    {
     "data": {
      "text/markdown": [
       "\n",
       "### Response 1\n",
       "\n",
       "\n",
       "> Today in the US, several notable events took place. Here are the highlights:\n",
       "> \n",
       "> 1. A man in Ohio was sentenced to 18 years in prison for attempting to burn down a church that was hosting drag story hour events.\n",
       "> \n",
       "> 2. The killer of pro cyclist Mo Wilson was captured with the help of a want ad for a yoga instructor in Costa Rica.\n",
       "> \n",
       "> 3. In the Trump Georgia case, the prosecutor at the center of the allegations reached a temporary divorce agreement, which means she won't be asked about an alleged affair during the trial.\n",
       "> \n",
       "> 4. Charges were filed in the mass murder case linked to illegal marijuana operations in the Mojave Desert in San Bernardino County, California.\n",
       "> \n",
       "> 5. Fulton County, Georgia, experienced a cyberattack, resulting in a government outage that affected phones, court sites, and tax systems. However, the county's district attorney stated that the hack did not impact the Trump election interference case.\n",
       "> \n",
       "> These are just some of the significant events that occurred today in the US.\n"
      ],
      "text/plain": [
       "<IPython.core.display.Markdown object>"
      ]
     },
     "metadata": {},
     "output_type": "display_data"
    }
   ],
   "source": [
    "news_agent(\"What happened in the US today?\")"
   ]
  }
 ],
 "metadata": {
  "kernelspec": {
   "display_name": "Python 3 (ipykernel)",
   "language": "python",
   "name": "python3"
  },
  "language_info": {
   "codemirror_mode": {
    "name": "ipython",
    "version": 3
   },
   "file_extension": ".py",
   "mimetype": "text/x-python",
   "name": "python",
   "nbconvert_exporter": "python",
   "pygments_lexer": "ipython3",
   "version": "3.11.7"
  }
 },
 "nbformat": 4,
 "nbformat_minor": 5
}
