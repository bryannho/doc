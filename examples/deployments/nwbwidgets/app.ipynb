{
 "cells": [
  {
   "cell_type": "markdown",
   "id": "ce7cfcc5-0077-42b5-ad4e-660f48a1c324",
   "metadata": {},
   "source": [
    "# [nwbwidgets](https://github.com/NeurodataWithoutBorders/nwbwidgets)\n",
    "\n",
    "Hosted by [Ploomber Cloud](https://ploomber.io/)"
   ]
  },
  {
   "cell_type": "code",
   "execution_count": 13,
   "id": "e6d7b788-a33f-48a8-8a3f-0049639c5e26",
   "metadata": {},
   "outputs": [],
   "source": [
    "import os\n",
    "from urllib.parse import parse_qs\n",
    "\n",
    "import fsspec\n",
    "import h5py\n",
    "import pynwb\n",
    "from nwbwidgets import nwb2widget\n",
    "from IPython.display import display, Markdown\n",
    "\n",
    "query_string = os.environ.get('QUERY_STRING', '')\n",
    "parameters = parse_qs(query_string)\n",
    "\n",
    "url_sample = \"https://dandiarchive.s3.amazonaws.com/blobs/5b6/477/5b647726-95f6-4aef-88fc-3a54d33301c3\"\n",
    "url = parameters.get(\"url\")"
   ]
  },
  {
   "cell_type": "code",
   "execution_count": 14,
   "id": "69139567-f07c-4149-81ac-d3067a093d71",
   "metadata": {},
   "outputs": [],
   "source": [
    "def viz_file(url):\n",
    "    fs = fsspec.filesystem(\"http\")\n",
    "\n",
    "    # open the file\n",
    "    f = fs.open(url, \"rb\")\n",
    "    file = h5py.File(f)\n",
    "    io = pynwb.NWBHDF5IO(file=file, load_namespaces=True)\n",
    "    nwbfile = io.read()\n",
    "\n",
    "    display(nwb2widget(nwbfile))\n",
    "\n",
    "def get_base_url():\n",
    "    server = os.environ.get('SERVER_NAME', 'localhost') \n",
    "    url = \"http://\" + server\n",
    "\n",
    "    port = os.environ.get('SERVER_PORT', '')\n",
    "    if port:\n",
    "        url += \":\" + port\n",
    "\n",
    "    path = os.environ.get('SCRIPT_NAME', '')\n",
    "    url += path\n",
    "\n",
    "    return url"
   ]
  },
  {
   "cell_type": "code",
   "execution_count": 15,
   "id": "0754f4aa-59e5-4ef2-85c5-1a16845cb385",
   "metadata": {},
   "outputs": [
    {
     "data": {
      "text/markdown": [
       "This app must receive a url. e.g: [http://localhost?url=https://dandiarchive.s3.amazonaws.com/blobs/5b6/477/5b647726-95f6-4aef-88fc-3a54d33301c3](http://localhost?url=https://dandiarchive.s3.amazonaws.com/blobs/5b6/477/5b647726-95f6-4aef-88fc-3a54d33301c3)"
      ],
      "text/plain": [
       "<IPython.core.display.Markdown object>"
      ]
     },
     "metadata": {},
     "output_type": "display_data"
    }
   ],
   "source": [
    "if not url:\n",
    "    base = get_base_url()\n",
    "    url_full = f\"{base}?url={url_sample}\"\n",
    "    display(Markdown(\"This app must receive a URL with a dataset to visualize.\"))\n",
    "    display(Markdown(f\"Example: [{url_full}]({url_full})\"))\n",
    "else:    \n",
    "    if len(url) > 1:\n",
    "        display(Markdown(\"Received more than one url parameter, using the first one...\"))\n",
    "\n",
    "    url_ = url[0]\n",
    "    display(Markdown(f\"Getting data from: {url_}\"))\n",
    "    viz_file(url_)"
   ]
  }
 ],
 "metadata": {
  "kernelspec": {
   "display_name": "Python 3 (ipykernel)",
   "language": "python",
   "name": "python3"
  },
  "language_info": {
   "codemirror_mode": {
    "name": "ipython",
    "version": 3
   },
   "file_extension": ".py",
   "mimetype": "text/x-python",
   "name": "python",
   "nbconvert_exporter": "python",
   "pygments_lexer": "ipython3",
   "version": "3.11.5"
  }
 },
 "nbformat": 4,
 "nbformat_minor": 5
}
