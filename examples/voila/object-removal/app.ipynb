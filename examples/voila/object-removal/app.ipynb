{
 "cells": [
  {
   "cell_type": "markdown",
   "id": "8a4fe76b-8db6-41c1-9f2f-5d0f8644c3eb",
   "metadata": {},
   "source": [
    "# Object removal\n",
    "\n",
    "This app allows you to remove objects from images.\n",
    "\n",
    "**This application is hosted in [Ploomber Cloud](https://ploomber.io/).**\n",
    "\n",
    "First, upload an image:"
   ]
  },
  {
   "cell_type": "code",
   "execution_count": 1,
   "id": "4dc0abe1-dff3-4b42-8163-1a49a254765f",
   "metadata": {},
   "outputs": [],
   "source": [
    "from ipywidgets import FileUpload, Image, ColorPicker, IntSlider, link, AppLayout, HBox, Output, Button, VBox\n",
    "from ipycanvas import Canvas, hold_canvas, MultiCanvas\n",
    "import PIL\n",
    "from IPython import display\n",
    "import time"
   ]
  },
  {
   "cell_type": "code",
   "execution_count": 2,
   "id": "1fd23388-5820-4a48-b7ab-f636be965fa1",
   "metadata": {},
   "outputs": [],
   "source": [
    "drawing = False\n",
    "position = None\n",
    "shape = []\n",
    "\n",
    "\n",
    "def on_mouse_down(x, y):\n",
    "    global drawing\n",
    "    global position\n",
    "    global shape\n",
    "\n",
    "    drawing = True\n",
    "    position = (x, y)\n",
    "    shape = [position]\n",
    "\n",
    "\n",
    "def on_mouse_move(x, y):\n",
    "    global drawing\n",
    "    global position\n",
    "    global shape\n",
    "\n",
    "    if not drawing:\n",
    "        return\n",
    "\n",
    "    with hold_canvas():\n",
    "        canvas.stroke_line(position[0], position[1], x, y)\n",
    "\n",
    "        position = (x, y)\n",
    "\n",
    "    shape.append(position)\n",
    "\n",
    "\n",
    "def on_mouse_up(x, y):\n",
    "    global drawing\n",
    "    global position\n",
    "    global shape\n",
    "\n",
    "    drawing = False\n",
    "\n",
    "    with hold_canvas():\n",
    "        canvas.stroke_line(position[0], position[1], x, y)\n",
    "        canvas.fill_polygon(shape)\n",
    "\n",
    "    shape = []\n",
    "\n",
    "\n",
    "multi = MultiCanvas(2, width=10, height=10, sync_image_data=True)\n",
    "background, canvas = multi\n",
    "canvas.on_mouse_down(on_mouse_down)\n",
    "canvas.on_mouse_move(on_mouse_move)\n",
    "canvas.on_mouse_up(on_mouse_up)"
   ]
  },
  {
   "cell_type": "code",
   "execution_count": 3,
   "id": "099f362f-38ca-4e15-96ac-6c6d04a89435",
   "metadata": {},
   "outputs": [
    {
     "data": {
      "application/vnd.jupyter.widget-view+json": {
       "model_id": "7c3757841263494c91d07b2a0d8b1435",
       "version_major": 2,
       "version_minor": 0
      },
      "text/plain": [
       "FileUpload(value=(), accept='image/*', description='Upload')"
      ]
     },
     "execution_count": 3,
     "metadata": {},
     "output_type": "execute_result"
    }
   ],
   "source": [
    "import io\n",
    "\n",
    "upload = FileUpload(\n",
    "    accept='image/*',\n",
    "    multiple=False\n",
    ")\n",
    "\n",
    "output = Output()\n",
    "\n",
    "\n",
    "img_pil = None\n",
    "\n",
    "\n",
    "def on_file_upload(change):\n",
    "    uploaded_file = change['new'][0]\n",
    "    content = uploaded_file['content']\n",
    "\n",
    "    global img_pil\n",
    "    img_pil = PIL.Image.open(io.BytesIO(content.tobytes()))\n",
    "    multi.width, multi.height = img_pil.width, img_pil.height\n",
    "    \n",
    "    image = Image(value=content)\n",
    "        \n",
    "    background.fill_style = \"#000000\"\n",
    "    background.fill_rect(0, 0, 1000, 1000)\n",
    "    background.draw_image(image, x=0, y=0)\n",
    "    canvas.stroke_style = \"#000000\"\n",
    "    canvas.sync_image_data = True\n",
    "\n",
    "    \n",
    "upload.observe(on_file_upload, names='value')\n",
    "upload"
   ]
  },
  {
   "cell_type": "markdown",
   "id": "6d8ff1b1-e318-47a0-87b0-0f3e6e546a96",
   "metadata": {},
   "source": [
    "The image will appear here, draw the silhouette from the object you want to remove:"
   ]
  },
  {
   "cell_type": "code",
   "execution_count": 4,
   "id": "3294339a-fcf1-4694-b21d-8b79d4001491",
   "metadata": {},
   "outputs": [
    {
     "data": {
      "application/vnd.jupyter.widget-view+json": {
       "model_id": "2d745e1e0b204d1e9a3542dd46596497",
       "version_major": 2,
       "version_minor": 0
      },
      "text/plain": [
       "MultiCanvas(height=10, sync_image_data=True, width=10)"
      ]
     },
     "execution_count": 4,
     "metadata": {},
     "output_type": "execute_result"
    }
   ],
   "source": [
    "multi"
   ]
  },
  {
   "cell_type": "markdown",
   "id": "1ba84edb-e79c-4c5d-952d-2e300c0e4a1b",
   "metadata": {},
   "source": [
    "When done, click on \"Remove object\":"
   ]
  },
  {
   "cell_type": "code",
   "execution_count": 5,
   "id": "86ad1dcd-bdd6-4764-aff9-a9ddf0a0034f",
   "metadata": {},
   "outputs": [],
   "source": [
    "import ipyspin\n",
    "\n",
    "s = ipyspin.Spinner()\n",
    "\n",
    "s.layout.height = '50px'\n",
    "s.layout.width = '50px'\n",
    "\n",
    "s.lines = 10  # The number of lines to draw\n",
    "s.length = 38/4  # The length of each line\n",
    "s.width = 17/4  # The line thickness\n",
    "s.radius = 40/4  # The radius of the inner circle\n",
    "s.scale = 1  # Scales overall size of the spinner\n",
    "s.corners = 1  # Corner roundness (0..1)\n",
    "s.speed = 0.5  # Rounds per second\n",
    "s.rotate = 0  # The rotation offset\n",
    "s.animation = 'spinner-line-fade-quick'  # The CSS animation name for the lines\n",
    "s.direction = 1  # 1: clockwise, -1: counterclockwise\n",
    "s.color = '#000000'  # CSS color or array of colors\n",
    "s.fade_color = 'transparent'  # CSS color or array of colors\n",
    "s.top = '50%'  # Top position relative to parent\n",
    "s.left = '50%'  # Left position relative to parent\n",
    "s.shadow = '0 0 1px transparent'  # Box-shadow for the lines\n",
    "s.z_index = 2000000000  # The z-index (defaults to 2e9)\n",
    "s.class_name = 'spinner'  # The CSS class to assign to the spinner\n",
    "s.position = 'absolute'  # Element positioning"
   ]
  },
  {
   "cell_type": "code",
   "execution_count": 6,
   "id": "f774cf73-2e39-411c-ab3e-f904f08e118e",
   "metadata": {},
   "outputs": [],
   "source": [
    "import replicate\n",
    "import requests\n",
    "\n",
    "def run_model():\n",
    "    url = None\n",
    "\n",
    "    try:\n",
    "        url =  replicate.run(\n",
    "    \"zylim0702/remove-object:0e3a841c913f597c1e4c321560aa69e2bc1f15c65f8c366caafc379240efd8ba\",\n",
    "    input={\"image\": open(\"tmp_orig.jpg\", \"rb\"),\n",
    "           \"mask\": open(\"tmp.jpg\", \"rb\")\n",
    "          }\n",
    "\n",
    "    \n",
    "    )\n",
    "    except Exception as e:\n",
    "        pass\n",
    "\n",
    "    if not url:\n",
    "        raise RuntimeError(\"An error happened when running the model, please try again\")\n",
    "\n",
    "    return requests.get(url).content"
   ]
  },
  {
   "cell_type": "code",
   "execution_count": 8,
   "id": "ec8c39ab-35b4-4d1e-a97e-970a5cdca53f",
   "metadata": {},
   "outputs": [
    {
     "data": {
      "application/vnd.jupyter.widget-view+json": {
       "model_id": "826e2b3e623f42e8a319a5b1703809ff",
       "version_major": 2,
       "version_minor": 0
      },
      "text/plain": [
       "VBox(children=(Button(description='Remove object', style=ButtonStyle()),))"
      ]
     },
     "execution_count": 8,
     "metadata": {},
     "output_type": "execute_result"
    }
   ],
   "source": [
    "button = Button(description=\"Remove object\")\n",
    "\n",
    "def on_button_clicked(button):\n",
    "    mask = PIL.Image.fromarray(canvas.get_image_data())\n",
    "    mask_ = PIL.Image.new(\"RGBA\", mask.size, \"WHITE\")\n",
    "    mask_.paste(mask, (0, 0), mask)           \n",
    "    mask_ = mask_.convert('RGB')\n",
    "    mask_final = PIL.ImageOps.invert(mask_)\n",
    "    mask_final.save(\"tmp.jpg\")\n",
    "\n",
    "    global img_pil\n",
    "    img_pil.save(\"tmp_orig.jpg\")\n",
    "\n",
    "    with output:\n",
    "        display.clear_output()\n",
    "        display.display(s)\n",
    "        img_data = run_model()\n",
    "        display.clear_output()\n",
    "        display.display(display.Image(data=img_data))\n",
    "\n",
    "button.on_click(on_button_clicked)\n",
    "\n",
    "VBox([button])"
   ]
  },
  {
   "cell_type": "markdown",
   "id": "f63031a6-7d5e-406c-a680-2f9905648ec8",
   "metadata": {},
   "source": [
    "You can try it multiple times to remove objects iteratively.\n",
    "\n",
    "(right click to save the image)"
   ]
  },
  {
   "cell_type": "code",
   "execution_count": 9,
   "id": "16168706-f1c8-43b3-b9f4-187705d720e9",
   "metadata": {},
   "outputs": [
    {
     "data": {
      "application/vnd.jupyter.widget-view+json": {
       "model_id": "86d43b0ab6e149ecb6566b0530ba4140",
       "version_major": 2,
       "version_minor": 0
      },
      "text/plain": [
       "Output()"
      ]
     },
     "execution_count": 9,
     "metadata": {},
     "output_type": "execute_result"
    }
   ],
   "source": [
    "output"
   ]
  }
 ],
 "metadata": {
  "kernelspec": {
   "display_name": "Python 3 (ipykernel)",
   "language": "python",
   "name": "python3"
  },
  "language_info": {
   "codemirror_mode": {
    "name": "ipython",
    "version": 3
   },
   "file_extension": ".py",
   "mimetype": "text/x-python",
   "name": "python",
   "nbconvert_exporter": "python",
   "pygments_lexer": "ipython3",
   "version": "3.11.7"
  }
 },
 "nbformat": 4,
 "nbformat_minor": 5
}
