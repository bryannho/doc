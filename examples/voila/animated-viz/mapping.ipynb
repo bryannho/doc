{
 "cells": [
  {
   "cell_type": "code",
   "execution_count": 19,
   "id": "c961d85a-7f68-4065-a207-3c39fade8bed",
   "metadata": {},
   "outputs": [],
   "source": [
    "import pandas as pd"
   ]
  },
  {
   "cell_type": "code",
   "execution_count": 20,
   "id": "7ac38952-dbc0-4c18-908b-979fd09083fd",
   "metadata": {},
   "outputs": [],
   "source": [
    "countries = pd.read_csv(\"https://raw.githubusercontent.com/lukes/ISO-3166-Countries-with-Regional-Codes/master/all/all.csv\")\n",
    "countries = countries[[\"name\", \"region\"]]\n",
    "\n",
    "df = pd.read_csv(\"population-and-demography.csv\")\n",
    "df = df.merge(countries, left_on=\"Country name\", right_on=\"name\", how=\"outer\")"
   ]
  },
  {
   "cell_type": "code",
   "execution_count": 33,
   "id": "76a33673-24ad-479c-a068-046417d3780c",
   "metadata": {},
   "outputs": [],
   "source": [
    "exclude = [\n",
    "    'Africa (UN)', 'Asia (UN)', 'Europe (UN)', 'High-income countries', \n",
    "    'Land-locked developing countries (LLDC)', 'Latin America and the Caribbean (UN)', \n",
    "    'Least developed countries', 'Less developed regions', 'Less developed regions, excluding China', \n",
    "    'Less developed regions, excluding least developed countries', 'Low-income countries', \n",
    "    'Lower-middle-income countries', 'More developed regions', 'Northern America (UN)', \n",
    "    'Oceania (UN)', 'Small island developing states (SIDS)', 'Upper-middle-income countries',\n",
    "    \"World\"\n",
    "]"
   ]
  },
  {
   "cell_type": "code",
   "execution_count": 34,
   "id": "7fa1807e-bed0-4d71-8c24-df085d3c592a",
   "metadata": {},
   "outputs": [],
   "source": [
    "pd.set_option('display.max_rows', 500)\n",
    "error = df[df.name.isna() | df[\"Country name\"].isna()][[\"Country name\", \"name\"]].drop_duplicates()\n",
    "error = error[~error[\"Country name\"].isin(exclude)]"
   ]
  },
  {
   "cell_type": "code",
   "execution_count": 36,
   "id": "55afdd6b-030a-4771-b6da-1b025bc0ca91",
   "metadata": {},
   "outputs": [
    {
     "data": {
      "text/plain": [
       "['Bolivia',\n",
       " 'Bonaire Sint Eustatius and Saba',\n",
       " 'British Virgin Islands',\n",
       " 'Brunei',\n",
       " 'Cape Verde',\n",
       " \"Cote d'Ivoire\",\n",
       " 'Curacao',\n",
       " 'Democratic Republic of Congo',\n",
       " 'East Timor',\n",
       " 'Falkland Islands',\n",
       " 'Iran',\n",
       " 'Kosovo',\n",
       " 'Laos',\n",
       " 'Micronesia (country)',\n",
       " 'Moldova',\n",
       " 'North Korea',\n",
       " 'Palestine',\n",
       " 'Reunion',\n",
       " 'Russia',\n",
       " 'Saint Barthelemy',\n",
       " 'Saint Helena',\n",
       " 'South Korea',\n",
       " 'Syria',\n",
       " 'Taiwan',\n",
       " 'Tanzania',\n",
       " 'United Kingdom',\n",
       " 'United States',\n",
       " 'United States Virgin Islands',\n",
       " 'Venezuela',\n",
       " 'Vietnam']"
      ]
     },
     "execution_count": 36,
     "metadata": {},
     "output_type": "execute_result"
    }
   ],
   "source": [
    "sorted(error[\"Country name\"][~error[\"Country name\"].isna()].tolist())"
   ]
  },
  {
   "cell_type": "code",
   "execution_count": 37,
   "id": "c28a5fb1-a998-4478-b29d-b4338b85aefa",
   "metadata": {},
   "outputs": [
    {
     "data": {
      "text/plain": [
       "['Antarctica',\n",
       " 'Bolivia (Plurinational State of)',\n",
       " 'Bonaire, Sint Eustatius and Saba',\n",
       " 'Bouvet Island',\n",
       " 'British Indian Ocean Territory',\n",
       " 'Brunei Darussalam',\n",
       " 'Cabo Verde',\n",
       " 'Christmas Island',\n",
       " 'Cocos (Keeling) Islands',\n",
       " 'Congo, Democratic Republic of the',\n",
       " 'Curaçao',\n",
       " \"Côte d'Ivoire\",\n",
       " 'Falkland Islands (Malvinas)',\n",
       " 'French Southern Territories',\n",
       " 'Heard Island and McDonald Islands',\n",
       " 'Holy See',\n",
       " 'Iran (Islamic Republic of)',\n",
       " \"Korea (Democratic People's Republic of)\",\n",
       " 'Korea, Republic of',\n",
       " \"Lao People's Democratic Republic\",\n",
       " 'Micronesia (Federated States of)',\n",
       " 'Moldova, Republic of',\n",
       " 'Norfolk Island',\n",
       " 'Palestine, State of',\n",
       " 'Pitcairn',\n",
       " 'Russian Federation',\n",
       " 'Réunion',\n",
       " 'Saint Barthélemy',\n",
       " 'Saint Helena, Ascension and Tristan da Cunha',\n",
       " 'South Georgia and the South Sandwich Islands',\n",
       " 'Svalbard and Jan Mayen',\n",
       " 'Syrian Arab Republic',\n",
       " 'Taiwan, Province of China',\n",
       " 'Tanzania, United Republic of',\n",
       " 'Timor-Leste',\n",
       " 'United Kingdom of Great Britain and Northern Ireland',\n",
       " 'United States Minor Outlying Islands',\n",
       " 'United States of America',\n",
       " 'Venezuela (Bolivarian Republic of)',\n",
       " 'Viet Nam',\n",
       " 'Virgin Islands (British)',\n",
       " 'Virgin Islands (U.S.)',\n",
       " 'Åland Islands']"
      ]
     },
     "execution_count": 37,
     "metadata": {},
     "output_type": "execute_result"
    }
   ],
   "source": [
    "sorted(error[\"name\"][~error[\"name\"].isna()].tolist())"
   ]
  },
  {
   "cell_type": "code",
   "execution_count": 38,
   "id": "756ff73c-59f2-4ba5-a21c-e11cf3a6108b",
   "metadata": {},
   "outputs": [],
   "source": [
    "mapping = {\n",
    "    'Bolivia (Plurinational State of)': 'Bolivia',\n",
    "    'Bonaire, Sint Eustatius and Saba': 'Bonaire Sint Eustatius and Saba',\n",
    "    'British Indian Ocean Territory': 'British Virgin Islands',\n",
    "    'Brunei Darussalam': 'Brunei',\n",
    "    'Cabo Verde': 'Cape Verde',\n",
    "    'Curaçao': 'Curacao',\n",
    "    \"Côte d'Ivoire\": \"Cote d'Ivoire\",\n",
    "    'Congo, Democratic Republic of the': 'Democratic Republic of Congo',\n",
    "    'Iran (Islamic Republic of)': 'Iran',\n",
    "    \"Korea (Democratic People's Republic of)\": 'North Korea',\n",
    "    'Korea, Republic of': 'South Korea',\n",
    "    \"Lao People's Democratic Republic\": 'Laos',\n",
    "    'Micronesia (Federated States of)': 'Micronesia (country)',\n",
    "    'Moldova, Republic of': 'Moldova',\n",
    "    'Palestine, State of': 'Palestine',\n",
    "    'Russian Federation': 'Russia',\n",
    "    'Réunion': 'Reunion',\n",
    "    'Saint Barthélemy': 'Saint Barthelemy',\n",
    "    'Saint Helena, Ascension and Tristan da Cunha': 'Saint Helena',\n",
    "    'Syrian Arab Republic': 'Syria',\n",
    "    'Taiwan, Province of China': 'Taiwan',\n",
    "    'Tanzania, United Republic of': 'Tanzania',\n",
    "    'United Kingdom of Great Britain and Northern Ireland': 'United Kingdom',\n",
    "    'United States of America': 'United States',\n",
    "    'Venezuela (Bolivarian Republic of)': 'Venezuela',\n",
    "    'Viet Nam': 'Vietnam',\n",
    "    'Virgin Islands (British)': 'British Virgin Islands',\n",
    "    'Virgin Islands (U.S.)': 'United States Virgin Islands'\n",
    "}"
   ]
  },
  {
   "cell_type": "code",
   "execution_count": null,
   "id": "9cd52710-f7c1-4ec7-b749-bd909dced3fd",
   "metadata": {},
   "outputs": [],
   "source": []
  }
 ],
 "metadata": {
  "kernelspec": {
   "display_name": "Python 3 (ipykernel)",
   "language": "python",
   "name": "python3"
  },
  "language_info": {
   "codemirror_mode": {
    "name": "ipython",
    "version": 3
   },
   "file_extension": ".py",
   "mimetype": "text/x-python",
   "name": "python",
   "nbconvert_exporter": "python",
   "pygments_lexer": "ipython3",
   "version": "3.10.13"
  }
 },
 "nbformat": 4,
 "nbformat_minor": 5
}
