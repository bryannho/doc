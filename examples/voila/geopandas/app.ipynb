{
 "cells": [
  {
   "cell_type": "markdown",
   "id": "c73c94dd-5a5e-4981-8ba0-c28965c08ce9",
   "metadata": {},
   "source": [
    "# Running GDAL + geopandas in Ploomber Cloud\n",
    "\n",
    "This application runs `GDAL` and `geopandas`. Source code taken from the [geopandas documentation](https://geopandas.org/en/stable/docs/user_guide/interactive_mapping.html)."
   ]
  },
  {
   "cell_type": "markdown",
   "id": "78c62746-d4b5-4270-9bd6-a47741c32884",
   "metadata": {},
   "source": [
    "## NYC maps"
   ]
  },
  {
   "cell_type": "code",
   "execution_count": null,
   "id": "64464b98-3c23-4e05-ae28-7436dd6147d6",
   "metadata": {},
   "outputs": [],
   "source": [
    "import geopandas\n",
    "import geodatasets\n",
    "\n",
    "nybb = geopandas.read_file(geodatasets.get_path(\"nybb\"))\n",
    "chicago = geopandas.read_file(geodatasets.get_path(\"geoda.chicago_commpop\"))\n",
    "groceries = geopandas.read_file(geodatasets.get_path(\"geoda.groceries\")).explode(ignore_index=True)"
   ]
  },
  {
   "cell_type": "code",
   "execution_count": null,
   "id": "af3ec0f9-6487-405b-b48c-33016d74eaa7",
   "metadata": {
    "scrolled": true
   },
   "outputs": [],
   "source": [
    "nybb.explore()"
   ]
  },
  {
   "cell_type": "code",
   "execution_count": null,
   "id": "7740bda8-ba6b-48b7-a8fd-d17a12bebe85",
   "metadata": {
    "scrolled": true
   },
   "outputs": [],
   "source": [
    "nybb.explore(\n",
    "    column=\"BoroName\",  # make choropleth based on \"BoroName\" column\n",
    "    tooltip=\"BoroName\",  # show \"BoroName\" value in tooltip (on hover)\n",
    "    popup=True,  # show all values in popup (on click)\n",
    "    tiles=\"CartoDB positron\",  # use \"CartoDB positron\" tiles\n",
    "    cmap=\"Set1\",  # use \"Set1\" matplotlib colormap\n",
    "    style_kwds=dict(color=\"black\"),  # use black outline\n",
    ")"
   ]
  },
  {
   "cell_type": "markdown",
   "id": "68cbf6fe-de21-4ce7-93cc-f5378b5c77c8",
   "metadata": {},
   "source": [
    "## Chicago map"
   ]
  },
  {
   "cell_type": "code",
   "execution_count": null,
   "id": "5a02d9f5-c74e-4daf-82a8-e0db49642726",
   "metadata": {},
   "outputs": [],
   "source": [
    "import folium\n",
    "\n",
    "m = chicago.explore(\n",
    "    column=\"POP2010\",  # make choropleth based on \"POP2010\" column\n",
    "    scheme=\"naturalbreaks\",  # use mapclassify's natural breaks scheme\n",
    "    legend=True,  # show legend\n",
    "    k=10,  # use 10 bins\n",
    "    tooltip=False,  # hide tooltip\n",
    "    popup=[\"POP2010\", \"POP2000\"],  # show popup (on-click)\n",
    "    legend_kwds=dict(colorbar=False),  # do not use colorbar\n",
    "    name=\"chicago\",  # name of the layer in the map\n",
    ")\n",
    "\n",
    "groceries.explore(\n",
    "    m=m,  # pass the map object\n",
    "    color=\"red\",  # use red color on all points\n",
    "    marker_kwds=dict(radius=5, fill=True),  # make marker radius 10px with fill\n",
    "    tooltip=\"Address\",  # show \"name\" column in the tooltip\n",
    "    tooltip_kwds=dict(labels=False),  # do not show column label in the tooltip\n",
    "    name=\"groceries\",  # name of the layer in the map\n",
    ")\n",
    "\n",
    "folium.TileLayer(\"CartoDB positron\", show=False).add_to(\n",
    "    m\n",
    ")  # use folium to add alternative tiles\n",
    "folium.LayerControl().add_to(m)  # use folium to add layer control\n",
    "\n",
    "m  # show map\n"
   ]
  },
  {
   "cell_type": "code",
   "execution_count": null,
   "id": "3bd73206-36c3-4efc-9240-23a017611989",
   "metadata": {},
   "outputs": [],
   "source": []
  }
 ],
 "metadata": {
  "kernelspec": {
   "display_name": "Python 3 (ipykernel)",
   "language": "python",
   "name": "python3"
  },
  "language_info": {
   "codemirror_mode": {
    "name": "ipython",
    "version": 3
   },
   "file_extension": ".py",
   "mimetype": "text/x-python",
   "name": "python",
   "nbconvert_exporter": "python",
   "pygments_lexer": "ipython3",
   "version": "3.11.8"
  }
 },
 "nbformat": 4,
 "nbformat_minor": 5
}
